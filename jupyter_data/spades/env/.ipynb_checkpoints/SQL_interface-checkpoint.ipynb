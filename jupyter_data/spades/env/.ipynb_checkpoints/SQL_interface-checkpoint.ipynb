{
 "cells": [
  {
   "cell_type": "code",
   "execution_count": 52,
   "metadata": {},
   "outputs": [],
   "source": [
    "# 連接到MySQL資料庫 initial\n",
    "import pandas as pd\n",
    "import pymysql\n",
    "import logging\n",
    "import pymysql.cursors\n",
    "import random\n",
    "\n",
    "def random_3(source_list):\n",
    "    code_list=[]\n",
    "    while len(code_list)<3:\n",
    "        a=random.choice(source_list)\n",
    "        if a not in code_list:\n",
    "            code_list.append(a)\n",
    "    return code_list\n",
    "\n",
    "def connectDB():\n",
    "    try:\n",
    "        mysqldb = pymysql.connect(\n",
    "                host=\"mysql\",\n",
    "                user=\"user\",\n",
    "                passwd=\"user\",\n",
    "                database=\"project\",\n",
    "                charset='utf8',\n",
    "                port=3306,\n",
    "                cursorclass=pymysql.cursors.DictCursor)\n",
    "        return mysqldb\n",
    "    except Exception as e:\n",
    "        logging.error('Fail to connection mysql {}'.format(str(e)))\n",
    "    return None\n"
   ]
  },
  {
   "cell_type": "code",
   "execution_count": 80,
   "metadata": {},
   "outputs": [
    {
     "name": "stdout",
     "output_type": "stream",
     "text": [
      "[39, 51, 53]\n",
      "39 64gun 愛酷智能科技股份有限公司 數位科技顧問 待遇面議 https://www.104.com.tw/job/64gun?jobsource=2018indexpoc 121.548 25.0479 0.192171 None None\n",
      "success\n",
      "51 6w82f 超維汽車實業有限公司 TESLA接待人員(授權鈑噴中心 台中) 待遇面議 https://www.104.com.tw/job/6w82f?jobsource=2018indexpoc 120.608 24.1471 0.207088 None None\n",
      "success\n",
      "53 6z6vi 立樂高園股份有限公司 業務PM－再生能源開發商(14566) 待遇面議 https://www.104.com.tw/job/6z6vi?jobsource=2018indexpoc 121.511 25.0627 0.182986 None None\n",
      "success\n"
     ]
    }
   ],
   "source": [
    "#sql_2 = \"select * from recom_2 order by id  limit 10\"\n",
    "\n",
    "def insert_recom_3(df):\n",
    "    db = pymysql.connect(host='mysql', user='user',password='user',\n",
    "                           database='project',charset=\"utf8\",port=3306)    \n",
    "    cursor = db.cursor()\n",
    "    for j in range(3):\n",
    "        b=[i for i in data.loc[j]]\n",
    "        print(b[0],b[1],b[2],b[3],b[4],b[5],b[6],b[7],b[8],b[9],b[10])\n",
    "        sql_1 = \"insert into recom_3(Code,companyName,jobName,salary,C,longitude,latitude,Similarity) \\\n",
    "        values( '%s','%s','%s','%s','%s', %s,%s,%s)\" % (b[1],b[2],b[3],b[4],b[5],b[6],b[7],b[8])\n",
    "\n",
    "        try:\n",
    "            cursor.execute(sql_1) # 执行sql语句\n",
    "            db.commit() # 提交到数据库执行\n",
    "            print('success')\n",
    "        except:\n",
    "            db.rollback() # 如果发生错误则回滚\n",
    "            print('error on %s' % j)\n",
    "    \n",
    "sql_2 = \"select id from recom_2\"\n",
    "data = pd.read_sql(sql_2, db)\n",
    "a=data['id'].tolist()\n",
    "id_list=random_3(a)\n",
    "print(id_list)\n",
    "sql_2 = \"select * from recom_2 where id in ({})\".format(id_list).replace('[','').replace(']','')\n",
    "data = pd.read_sql(sql_2, db)\n",
    "insert_recom_3(data)\n",
    "\n"
   ]
  },
  {
   "cell_type": "code",
   "execution_count": 81,
   "metadata": {},
   "outputs": [
    {
     "name": "stdout",
     "output_type": "stream",
     "text": [
      "   id   Code   companyName               jobName salary  \\\n",
      "0  61  64gun  愛酷智能科技股份有限公司                數位科技顧問   待遇面議   \n",
      "1  62  6w82f    超維汽車實業有限公司  TESLA接待人員(授權鈑噴中心 台中)   待遇面議   \n",
      "2  63  6z6vi    立樂高園股份有限公司   業務PM－再生能源開發商(14566)   待遇面議   \n",
      "\n",
      "                                                   C  longitude  latitude  \\\n",
      "0  https://www.104.com.tw/job/64gun?jobsource=201...    121.548   25.0479   \n",
      "1  https://www.104.com.tw/job/6w82f?jobsource=201...    120.608   24.1471   \n",
      "2  https://www.104.com.tw/job/6z6vi?jobsource=201...    121.511   25.0627   \n",
      "\n",
      "   Similarity DisLike createDate  \n",
      "0    0.192171    None       None  \n",
      "1    0.207088    None       None  \n",
      "2    0.182986    None       None  \n"
     ]
    }
   ],
   "source": [
    "# select SQL\n",
    "db = pymysql.connect(host='mysql', user='user',password='user',\n",
    "                           database='project',charset=\"utf8\",port=3306)\n",
    "\n",
    "sql_2 = \"select * from project.recom_3\"\n",
    "data = pd.read_sql(sql_2, db)\n",
    "print(data)"
   ]
  },
  {
   "cell_type": "code",
   "execution_count": 77,
   "metadata": {},
   "outputs": [
    {
     "name": "stdout",
     "output_type": "stream",
     "text": [
      "success\n"
     ]
    }
   ],
   "source": [
    "# insert or delete SQL\n",
    "cursor = db.cursor()\n",
    "sql_1 = \"delete from recom_3 where id <61\"\n",
    "#insert into recom_1(srno, jobCode, jobName, jobDescription, C) values( %s,'%s','%s','%s','%s')\" % (C1,C2,C3,C4,C5)\n",
    "\n",
    "try:\n",
    "    cursor.execute(sql_1) # 执行sql语句\n",
    "    db.commit() # 提交到数据库执行\n",
    "    print('success')\n",
    "except:\n",
    "    db.rollback() # 如果发生错误则回滚\n",
    "    print('error')"
   ]
  },
  {
   "cell_type": "code",
   "execution_count": 57,
   "metadata": {},
   "outputs": [
    {
     "name": "stdout",
     "output_type": "stream",
     "text": [
      "success\n"
     ]
    }
   ],
   "source": [
    "# create or drop SQL\n",
    "cursor = db.cursor()\n",
    "sql_1=\"CREATE Table project.recom_3 ( \\\n",
    "\tid INTEGER PRIMARY KEY AUTO_INCREMENT, \\\n",
    "\tCode VARCHAR(10), \\\n",
    "\tcompanyName TEXT(100), \\\n",
    "\tjobName TEXT(100), \\\n",
    "\tsalary TEXT(100), \\\n",
    "\tC VARCHAR(100), \\\n",
    "\tlongitude Float, \\\n",
    "\tlatitude Float, \\\n",
    "\tSimilarity Float, \\\n",
    "\tDisLike Bool, \\\n",
    "        createDate DATETIME \\\n",
    ");\"\n",
    "#\"drop table project.Login_t\"\n",
    "\n",
    "try:\n",
    "    cursor.execute(sql_1) # 执行sql语句\n",
    "    db.commit() # 提交到数据库执行\n",
    "    print('success')\n",
    "except:\n",
    "    db.rollback() # 如果发生错误则回滚\n",
    "    print('error')"
   ]
  },
  {
   "cell_type": "code",
   "execution_count": null,
   "metadata": {},
   "outputs": [],
   "source": [
    "a=[C1,C2,C3,C4,C5,C6,C7,C8,C9,C10,C11]=[C1,C2,C3,C4,C5,C6,C7,C8,C9,C10,C11]"
   ]
  }
 ],
 "metadata": {
  "kernelspec": {
   "display_name": "Python 3",
   "language": "python",
   "name": "python3"
  },
  "language_info": {
   "codemirror_mode": {
    "name": "ipython",
    "version": 3
   },
   "file_extension": ".py",
   "mimetype": "text/x-python",
   "name": "python",
   "nbconvert_exporter": "python",
   "pygments_lexer": "ipython3",
   "version": "3.7.6"
  }
 },
 "nbformat": 4,
 "nbformat_minor": 4
}
