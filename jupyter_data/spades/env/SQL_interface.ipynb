{
 "cells": [
  {
   "cell_type": "code",
   "execution_count": 1,
   "metadata": {},
   "outputs": [],
   "source": [
    "# 連接到MySQL資料庫 initial\n",
    "import pandas as pd\n",
    "import pymysql\n",
    "import logging\n",
    "import pymysql.cursors\n",
    "import random\n",
    "\n",
    "def random_3(source_list):\n",
    "    code_list=[]\n",
    "    while len(code_list)<3:\n",
    "        a=random.choice(source_list)\n",
    "        if a not in code_list:\n",
    "            code_list.append(a)\n",
    "    return code_list\n",
    "\n",
    "def connectDB():\n",
    "    try:\n",
    "        mysqldb = pymysql.connect(\n",
    "                host=\"mysql\",\n",
    "                user=\"user\",\n",
    "                passwd=\"user\",\n",
    "                database=\"project\",\n",
    "                charset='utf8',\n",
    "                port=3306,\n",
    "                cursorclass=pymysql.cursors.DictCursor)\n",
    "        return mysqldb\n",
    "    except Exception as e:\n",
    "        logging.error('Fail to connection mysql {}'.format(str(e)))\n",
    "    return None\n"
   ]
  },
  {
   "cell_type": "code",
   "execution_count": 80,
   "metadata": {},
   "outputs": [
    {
     "name": "stdout",
     "output_type": "stream",
     "text": [
      "[39, 51, 53]\n",
      "39 64gun 愛酷智能科技股份有限公司 數位科技顧問 待遇面議 https://www.104.com.tw/job/64gun?jobsource=2018indexpoc 121.548 25.0479 0.192171 None None\n",
      "success\n",
      "51 6w82f 超維汽車實業有限公司 TESLA接待人員(授權鈑噴中心 台中) 待遇面議 https://www.104.com.tw/job/6w82f?jobsource=2018indexpoc 120.608 24.1471 0.207088 None None\n",
      "success\n",
      "53 6z6vi 立樂高園股份有限公司 業務PM－再生能源開發商(14566) 待遇面議 https://www.104.com.tw/job/6z6vi?jobsource=2018indexpoc 121.511 25.0627 0.182986 None None\n",
      "success\n"
     ]
    }
   ],
   "source": [
    "#sql_2 = \"select * from recom_2 order by id  limit 10\"\n",
    "\n",
    "def insert_recom_3(df):\n",
    "    db = pymysql.connect(host='mysql', user='user',password='user',\n",
    "                           database='project',charset=\"utf8\",port=3306)    \n",
    "    cursor = db.cursor()\n",
    "    for j in range(3):\n",
    "        b=[i for i in data.loc[j]]\n",
    "        print(b[0],b[1],b[2],b[3],b[4],b[5],b[6],b[7],b[8],b[9],b[10])\n",
    "        sql_1 = \"insert into recom_3(Code,companyName,jobName,salary,C,longitude,latitude,Similarity) \\\n",
    "        values( '%s','%s','%s','%s','%s', %s,%s,%s)\" % (b[1],b[2],b[3],b[4],b[5],b[6],b[7],b[8])\n",
    "\n",
    "        try:\n",
    "            cursor.execute(sql_1) # 执行sql语句\n",
    "            db.commit() # 提交到数据库执行\n",
    "            print('success')\n",
    "        except:\n",
    "            db.rollback() # 如果发生错误则回滚\n",
    "            print('error on %s' % j)\n",
    "    \n",
    "sql_2 = \"select id from recom_2\"\n",
    "data = pd.read_sql(sql_2, db)\n",
    "a=data['id'].tolist()\n",
    "id_list=random_3(a)\n",
    "print(id_list)\n",
    "sql_2 = \"select * from recom_2 where id in ({})\".format(id_list).replace('[','').replace(']','')\n",
    "data = pd.read_sql(sql_2, db)\n",
    "insert_recom_3(data)\n",
    "\n"
   ]
  },
  {
   "cell_type": "code",
   "execution_count": 2,
   "metadata": {},
   "outputs": [
    {
     "name": "stdout",
     "output_type": "stream",
     "text": [
      "    USER                                                PSW  \\\n",
      "0      1                                                aaa   \n",
      "1      2                                           test\\r\\n   \n",
      "2      3                                               死而復活   \n",
      "3      4                                              像極了愛情   \n",
      "4      5                                            拜託了 我求你   \n",
      "5      6                                              像極了愛情   \n",
      "6      7  任何人都可以求憐憫\\r\\n聖經經節\\r\\n\\r\\n羅馬十一32：因為神將眾人都圈在不信從之中...   \n",
      "7      8  任何人都可以求憐憫\\r\\n聖經經節\\r\\n\\r\\n羅馬十一32：因為神將眾人都圈在不信從之中...   \n",
      "8      9  任何人都可以求憐憫\\r\\n聖經經節\\r\\n\\r\\n羅馬十一32：因為神將眾人都圈在不信從之中...   \n",
      "9     10  任何人都可以求憐憫\\r\\n聖經經節\\r\\n\\r\\n羅馬十一32：因為神將眾人都圈在不信從之中...   \n",
      "10    11  Jerry弟兄(以前三會所英語區的負責弟兄) 的近况\\r\\n 1.他的癌症有擴散,不只在右下...   \n",
      "11    12  中 文 姓 名：沈家妘\\r\\n英 文 姓 名：Shen, Jia-Yun\\r\\n出 生 日 ...   \n",
      "12    13  中 文 姓 名：沈家妘\\r\\n英 文 姓 名：Shen, Jia-Yun\\r\\n出 生 日 ...   \n",
      "13    14    湯睿綸 Laurent Tang\\r\\n0919045609 – laurenttang...   \n",
      "14    15    湯睿綸 Laurent Tang\\r\\n0919045609 – laurenttang...   \n",
      "15    16    湯睿綸 Laurent Tang\\r\\n0919045609 – laurenttang...   \n",
      "16    17                                                 啊啊   \n",
      "17    18                                                 嗨嗨   \n",
      "18    19                                                 螞蟻   \n",
      "19    20                                                 麻油   \n",
      "20    21                                                  有   \n",
      "21    22  簡玉雯\\r\\n畢業於嶺東科技大學，2020年3月，開始於緯育Tibame的AI/BIG\\r\\...   \n",
      "22    23                                                  嗨   \n",
      "23    24    湯睿綸 Laurent Tang\\r\\n0919045609 – laurenttang...   \n",
      "24    25                                               Dkkk   \n",
      "\n",
      "            createDate  \n",
      "0  2020-09-02 11:12:00  \n",
      "1  2020-09-02 03:25:34  \n",
      "2  2020-09-02 04:35:34  \n",
      "3  2020-09-02 08:35:59  \n",
      "4  2020-09-02 09:02:42  \n",
      "5  2020-09-02 09:09:49  \n",
      "6  2020-09-02 09:15:22  \n",
      "7  2020-09-02 09:24:59  \n",
      "8  2020-09-02 10:01:49  \n",
      "9  2020-09-02 10:12:10  \n",
      "10 2020-09-02 10:17:22  \n",
      "11 2020-09-02 12:11:49  \n",
      "12 2020-09-02 12:16:24  \n",
      "13 2020-09-02 13:27:45  \n",
      "14 2020-09-02 13:31:57  \n",
      "15 2020-09-02 13:40:55  \n",
      "16 2020-09-02 14:06:07  \n",
      "17 2020-09-02 14:24:11  \n",
      "18 2020-09-02 14:36:57  \n",
      "19 2020-09-02 14:38:04  \n",
      "20 2020-09-02 14:41:09  \n",
      "21 2020-09-02 17:15:31  \n",
      "22 2020-09-03 01:54:43  \n",
      "23 2020-09-03 11:16:22  \n",
      "24 2020-09-03 12:39:15  \n"
     ]
    }
   ],
   "source": [
    "# select SQL (tables: line_user_id , )\n",
    "db = pymysql.connect(host='mysql', user='user',password='user',\n",
    "                           database='project',charset=\"utf8\",port=3306)\n",
    "\n",
    "sql_2 = \"select * from Login_2 \"\n",
    "data = pd.read_sql(sql_2, db)\n",
    "print(data)"
   ]
  },
  {
   "cell_type": "code",
   "execution_count": 77,
   "metadata": {},
   "outputs": [
    {
     "name": "stdout",
     "output_type": "stream",
     "text": [
      "success\n"
     ]
    }
   ],
   "source": [
    "# insert or delete SQL\n",
    "db=connectDB()\n",
    "cursor = db.cursor()\n",
    "sql_1 = \"delete from recom_3 where id <61\"\n",
    "#insert into recom_1(srno, jobCode, jobName, jobDescription, C) values( %s,'%s','%s','%s','%s')\" % (C1,C2,C3,C4,C5)\n",
    "\n",
    "try:\n",
    "    cursor.execute(sql_1) # 执行sql语句\n",
    "    db.commit() # 提交到数据库执行\n",
    "    print('success')\n",
    "except:\n",
    "    db.rollback() # 如果发生错误则回滚\n",
    "    print('error')"
   ]
  },
  {
   "cell_type": "code",
   "execution_count": 6,
   "metadata": {},
   "outputs": [
    {
     "ename": "InterfaceError",
     "evalue": "(0, '')",
     "output_type": "error",
     "traceback": [
      "\u001b[0;31m---------------------------------------------------------------------------\u001b[0m",
      "\u001b[0;31mKeyboardInterrupt\u001b[0m                         Traceback (most recent call last)",
      "\u001b[0;32m<ipython-input-6-ace5b3bced0b>\u001b[0m in \u001b[0;36m<module>\u001b[0;34m\u001b[0m\n\u001b[1;32m     13\u001b[0m \u001b[0;32mtry\u001b[0m\u001b[0;34m:\u001b[0m\u001b[0;34m\u001b[0m\u001b[0;34m\u001b[0m\u001b[0m\n\u001b[0;32m---> 14\u001b[0;31m     \u001b[0mcursor\u001b[0m\u001b[0;34m.\u001b[0m\u001b[0mexecute\u001b[0m\u001b[0;34m(\u001b[0m\u001b[0msql_1\u001b[0m\u001b[0;34m)\u001b[0m \u001b[0;31m# 执行sql语句\u001b[0m\u001b[0;34m\u001b[0m\u001b[0;34m\u001b[0m\u001b[0m\n\u001b[0m\u001b[1;32m     15\u001b[0m     \u001b[0mdb\u001b[0m\u001b[0;34m.\u001b[0m\u001b[0mcommit\u001b[0m\u001b[0;34m(\u001b[0m\u001b[0;34m)\u001b[0m \u001b[0;31m# 提交到数据库执行\u001b[0m\u001b[0;34m\u001b[0m\u001b[0;34m\u001b[0m\u001b[0m\n",
      "\u001b[0;32m/opt/conda/lib/python3.7/site-packages/pymysql/cursors.py\u001b[0m in \u001b[0;36mexecute\u001b[0;34m(self, query, args)\u001b[0m\n\u001b[1;32m    162\u001b[0m \u001b[0;34m\u001b[0m\u001b[0m\n\u001b[0;32m--> 163\u001b[0;31m         \u001b[0mresult\u001b[0m \u001b[0;34m=\u001b[0m \u001b[0mself\u001b[0m\u001b[0;34m.\u001b[0m\u001b[0m_query\u001b[0m\u001b[0;34m(\u001b[0m\u001b[0mquery\u001b[0m\u001b[0;34m)\u001b[0m\u001b[0;34m\u001b[0m\u001b[0;34m\u001b[0m\u001b[0m\n\u001b[0m\u001b[1;32m    164\u001b[0m         \u001b[0mself\u001b[0m\u001b[0;34m.\u001b[0m\u001b[0m_executed\u001b[0m \u001b[0;34m=\u001b[0m \u001b[0mquery\u001b[0m\u001b[0;34m\u001b[0m\u001b[0;34m\u001b[0m\u001b[0m\n",
      "\u001b[0;32m/opt/conda/lib/python3.7/site-packages/pymysql/cursors.py\u001b[0m in \u001b[0;36m_query\u001b[0;34m(self, q)\u001b[0m\n\u001b[1;32m    320\u001b[0m         \u001b[0mself\u001b[0m\u001b[0;34m.\u001b[0m\u001b[0m_clear_result\u001b[0m\u001b[0;34m(\u001b[0m\u001b[0;34m)\u001b[0m\u001b[0;34m\u001b[0m\u001b[0;34m\u001b[0m\u001b[0m\n\u001b[0;32m--> 321\u001b[0;31m         \u001b[0mconn\u001b[0m\u001b[0;34m.\u001b[0m\u001b[0mquery\u001b[0m\u001b[0;34m(\u001b[0m\u001b[0mq\u001b[0m\u001b[0;34m)\u001b[0m\u001b[0;34m\u001b[0m\u001b[0;34m\u001b[0m\u001b[0m\n\u001b[0m\u001b[1;32m    322\u001b[0m         \u001b[0mself\u001b[0m\u001b[0;34m.\u001b[0m\u001b[0m_do_get_result\u001b[0m\u001b[0;34m(\u001b[0m\u001b[0;34m)\u001b[0m\u001b[0;34m\u001b[0m\u001b[0;34m\u001b[0m\u001b[0m\n",
      "\u001b[0;32m/opt/conda/lib/python3.7/site-packages/pymysql/connections.py\u001b[0m in \u001b[0;36mquery\u001b[0;34m(self, sql, unbuffered)\u001b[0m\n\u001b[1;32m    504\u001b[0m         \u001b[0mself\u001b[0m\u001b[0;34m.\u001b[0m\u001b[0m_execute_command\u001b[0m\u001b[0;34m(\u001b[0m\u001b[0mCOMMAND\u001b[0m\u001b[0;34m.\u001b[0m\u001b[0mCOM_QUERY\u001b[0m\u001b[0;34m,\u001b[0m \u001b[0msql\u001b[0m\u001b[0;34m)\u001b[0m\u001b[0;34m\u001b[0m\u001b[0;34m\u001b[0m\u001b[0m\n\u001b[0;32m--> 505\u001b[0;31m         \u001b[0mself\u001b[0m\u001b[0;34m.\u001b[0m\u001b[0m_affected_rows\u001b[0m \u001b[0;34m=\u001b[0m \u001b[0mself\u001b[0m\u001b[0;34m.\u001b[0m\u001b[0m_read_query_result\u001b[0m\u001b[0;34m(\u001b[0m\u001b[0munbuffered\u001b[0m\u001b[0;34m=\u001b[0m\u001b[0munbuffered\u001b[0m\u001b[0;34m)\u001b[0m\u001b[0;34m\u001b[0m\u001b[0;34m\u001b[0m\u001b[0m\n\u001b[0m\u001b[1;32m    506\u001b[0m         \u001b[0;32mreturn\u001b[0m \u001b[0mself\u001b[0m\u001b[0;34m.\u001b[0m\u001b[0m_affected_rows\u001b[0m\u001b[0;34m\u001b[0m\u001b[0;34m\u001b[0m\u001b[0m\n",
      "\u001b[0;32m/opt/conda/lib/python3.7/site-packages/pymysql/connections.py\u001b[0m in \u001b[0;36m_read_query_result\u001b[0;34m(self, unbuffered)\u001b[0m\n\u001b[1;32m    723\u001b[0m             \u001b[0mresult\u001b[0m \u001b[0;34m=\u001b[0m \u001b[0mMySQLResult\u001b[0m\u001b[0;34m(\u001b[0m\u001b[0mself\u001b[0m\u001b[0;34m)\u001b[0m\u001b[0;34m\u001b[0m\u001b[0;34m\u001b[0m\u001b[0m\n\u001b[0;32m--> 724\u001b[0;31m             \u001b[0mresult\u001b[0m\u001b[0;34m.\u001b[0m\u001b[0mread\u001b[0m\u001b[0;34m(\u001b[0m\u001b[0;34m)\u001b[0m\u001b[0;34m\u001b[0m\u001b[0;34m\u001b[0m\u001b[0m\n\u001b[0m\u001b[1;32m    725\u001b[0m         \u001b[0mself\u001b[0m\u001b[0;34m.\u001b[0m\u001b[0m_result\u001b[0m \u001b[0;34m=\u001b[0m \u001b[0mresult\u001b[0m\u001b[0;34m\u001b[0m\u001b[0;34m\u001b[0m\u001b[0m\n",
      "\u001b[0;32m/opt/conda/lib/python3.7/site-packages/pymysql/connections.py\u001b[0m in \u001b[0;36mread\u001b[0;34m(self)\u001b[0m\n\u001b[1;32m   1068\u001b[0m         \u001b[0;32mtry\u001b[0m\u001b[0;34m:\u001b[0m\u001b[0;34m\u001b[0m\u001b[0;34m\u001b[0m\u001b[0m\n\u001b[0;32m-> 1069\u001b[0;31m             \u001b[0mfirst_packet\u001b[0m \u001b[0;34m=\u001b[0m \u001b[0mself\u001b[0m\u001b[0;34m.\u001b[0m\u001b[0mconnection\u001b[0m\u001b[0;34m.\u001b[0m\u001b[0m_read_packet\u001b[0m\u001b[0;34m(\u001b[0m\u001b[0;34m)\u001b[0m\u001b[0;34m\u001b[0m\u001b[0;34m\u001b[0m\u001b[0m\n\u001b[0m\u001b[1;32m   1070\u001b[0m \u001b[0;34m\u001b[0m\u001b[0m\n",
      "\u001b[0;32m/opt/conda/lib/python3.7/site-packages/pymysql/connections.py\u001b[0m in \u001b[0;36m_read_packet\u001b[0;34m(self, packet_type)\u001b[0m\n\u001b[1;32m    645\u001b[0m         \u001b[0;32mwhile\u001b[0m \u001b[0;32mTrue\u001b[0m\u001b[0;34m:\u001b[0m\u001b[0;34m\u001b[0m\u001b[0;34m\u001b[0m\u001b[0m\n\u001b[0;32m--> 646\u001b[0;31m             \u001b[0mpacket_header\u001b[0m \u001b[0;34m=\u001b[0m \u001b[0mself\u001b[0m\u001b[0;34m.\u001b[0m\u001b[0m_read_bytes\u001b[0m\u001b[0;34m(\u001b[0m\u001b[0;36m4\u001b[0m\u001b[0;34m)\u001b[0m\u001b[0;34m\u001b[0m\u001b[0;34m\u001b[0m\u001b[0m\n\u001b[0m\u001b[1;32m    647\u001b[0m             \u001b[0;31m#if DEBUG: dump_packet(packet_header)\u001b[0m\u001b[0;34m\u001b[0m\u001b[0;34m\u001b[0m\u001b[0;34m\u001b[0m\u001b[0m\n",
      "\u001b[0;32m/opt/conda/lib/python3.7/site-packages/pymysql/connections.py\u001b[0m in \u001b[0;36m_read_bytes\u001b[0;34m(self, num_bytes)\u001b[0m\n\u001b[1;32m    682\u001b[0m             \u001b[0;32mtry\u001b[0m\u001b[0;34m:\u001b[0m\u001b[0;34m\u001b[0m\u001b[0;34m\u001b[0m\u001b[0m\n\u001b[0;32m--> 683\u001b[0;31m                 \u001b[0mdata\u001b[0m \u001b[0;34m=\u001b[0m \u001b[0mself\u001b[0m\u001b[0;34m.\u001b[0m\u001b[0m_rfile\u001b[0m\u001b[0;34m.\u001b[0m\u001b[0mread\u001b[0m\u001b[0;34m(\u001b[0m\u001b[0mnum_bytes\u001b[0m\u001b[0;34m)\u001b[0m\u001b[0;34m\u001b[0m\u001b[0;34m\u001b[0m\u001b[0m\n\u001b[0m\u001b[1;32m    684\u001b[0m                 \u001b[0;32mbreak\u001b[0m\u001b[0;34m\u001b[0m\u001b[0;34m\u001b[0m\u001b[0m\n",
      "\u001b[0;32m/opt/conda/lib/python3.7/socket.py\u001b[0m in \u001b[0;36mreadinto\u001b[0;34m(self, b)\u001b[0m\n\u001b[1;32m    588\u001b[0m             \u001b[0;32mtry\u001b[0m\u001b[0;34m:\u001b[0m\u001b[0;34m\u001b[0m\u001b[0;34m\u001b[0m\u001b[0m\n\u001b[0;32m--> 589\u001b[0;31m                 \u001b[0;32mreturn\u001b[0m \u001b[0mself\u001b[0m\u001b[0;34m.\u001b[0m\u001b[0m_sock\u001b[0m\u001b[0;34m.\u001b[0m\u001b[0mrecv_into\u001b[0m\u001b[0;34m(\u001b[0m\u001b[0mb\u001b[0m\u001b[0;34m)\u001b[0m\u001b[0;34m\u001b[0m\u001b[0;34m\u001b[0m\u001b[0m\n\u001b[0m\u001b[1;32m    590\u001b[0m             \u001b[0;32mexcept\u001b[0m \u001b[0mtimeout\u001b[0m\u001b[0;34m:\u001b[0m\u001b[0;34m\u001b[0m\u001b[0;34m\u001b[0m\u001b[0m\n",
      "\u001b[0;31mKeyboardInterrupt\u001b[0m: ",
      "\nDuring handling of the above exception, another exception occurred:\n",
      "\u001b[0;31mInterfaceError\u001b[0m                            Traceback (most recent call last)",
      "\u001b[0;32m<ipython-input-6-ace5b3bced0b>\u001b[0m in \u001b[0;36m<module>\u001b[0;34m\u001b[0m\n\u001b[1;32m     16\u001b[0m     \u001b[0mprint\u001b[0m\u001b[0;34m(\u001b[0m\u001b[0;34m'success'\u001b[0m\u001b[0;34m)\u001b[0m\u001b[0;34m\u001b[0m\u001b[0;34m\u001b[0m\u001b[0m\n\u001b[1;32m     17\u001b[0m \u001b[0;32mexcept\u001b[0m\u001b[0;34m:\u001b[0m\u001b[0;34m\u001b[0m\u001b[0;34m\u001b[0m\u001b[0m\n\u001b[0;32m---> 18\u001b[0;31m     \u001b[0mdb\u001b[0m\u001b[0;34m.\u001b[0m\u001b[0mrollback\u001b[0m\u001b[0;34m(\u001b[0m\u001b[0;34m)\u001b[0m \u001b[0;31m# 如果发生错误则回滚\u001b[0m\u001b[0;34m\u001b[0m\u001b[0;34m\u001b[0m\u001b[0m\n\u001b[0m\u001b[1;32m     19\u001b[0m     \u001b[0mprint\u001b[0m\u001b[0;34m(\u001b[0m\u001b[0;34m'error'\u001b[0m\u001b[0;34m)\u001b[0m\u001b[0;34m\u001b[0m\u001b[0;34m\u001b[0m\u001b[0m\n",
      "\u001b[0;32m/opt/conda/lib/python3.7/site-packages/pymysql/connections.py\u001b[0m in \u001b[0;36mrollback\u001b[0;34m(self)\u001b[0m\n\u001b[1;32m    429\u001b[0m         \u001b[0;32min\u001b[0m \u001b[0mthe\u001b[0m \u001b[0mspecification\u001b[0m\u001b[0;34m.\u001b[0m\u001b[0;34m\u001b[0m\u001b[0;34m\u001b[0m\u001b[0m\n\u001b[1;32m    430\u001b[0m         \"\"\"\n\u001b[0;32m--> 431\u001b[0;31m         \u001b[0mself\u001b[0m\u001b[0;34m.\u001b[0m\u001b[0m_execute_command\u001b[0m\u001b[0;34m(\u001b[0m\u001b[0mCOMMAND\u001b[0m\u001b[0;34m.\u001b[0m\u001b[0mCOM_QUERY\u001b[0m\u001b[0;34m,\u001b[0m \u001b[0;34m\"ROLLBACK\"\u001b[0m\u001b[0;34m)\u001b[0m\u001b[0;34m\u001b[0m\u001b[0;34m\u001b[0m\u001b[0m\n\u001b[0m\u001b[1;32m    432\u001b[0m         \u001b[0mself\u001b[0m\u001b[0;34m.\u001b[0m\u001b[0m_read_ok_packet\u001b[0m\u001b[0;34m(\u001b[0m\u001b[0;34m)\u001b[0m\u001b[0;34m\u001b[0m\u001b[0;34m\u001b[0m\u001b[0m\n\u001b[1;32m    433\u001b[0m \u001b[0;34m\u001b[0m\u001b[0m\n",
      "\u001b[0;32m/opt/conda/lib/python3.7/site-packages/pymysql/connections.py\u001b[0m in \u001b[0;36m_execute_command\u001b[0;34m(self, command, sql)\u001b[0m\n\u001b[1;32m    740\u001b[0m         \"\"\"\n\u001b[1;32m    741\u001b[0m         \u001b[0;32mif\u001b[0m \u001b[0;32mnot\u001b[0m \u001b[0mself\u001b[0m\u001b[0;34m.\u001b[0m\u001b[0m_sock\u001b[0m\u001b[0;34m:\u001b[0m\u001b[0;34m\u001b[0m\u001b[0;34m\u001b[0m\u001b[0m\n\u001b[0;32m--> 742\u001b[0;31m             \u001b[0;32mraise\u001b[0m \u001b[0merr\u001b[0m\u001b[0;34m.\u001b[0m\u001b[0mInterfaceError\u001b[0m\u001b[0;34m(\u001b[0m\u001b[0;36m0\u001b[0m\u001b[0;34m,\u001b[0m \u001b[0;34m''\u001b[0m\u001b[0;34m)\u001b[0m\u001b[0;34m\u001b[0m\u001b[0;34m\u001b[0m\u001b[0m\n\u001b[0m\u001b[1;32m    743\u001b[0m \u001b[0;34m\u001b[0m\u001b[0m\n\u001b[1;32m    744\u001b[0m         \u001b[0;31m# If the last query was unbuffered, make sure it finishes before\u001b[0m\u001b[0;34m\u001b[0m\u001b[0;34m\u001b[0m\u001b[0;34m\u001b[0m\u001b[0m\n",
      "\u001b[0;31mInterfaceError\u001b[0m: (0, '')"
     ]
    }
   ],
   "source": [
    "# create or drop SQL\n",
    "db=connectDB()\n",
    "cursor = db.cursor()\n",
    "sql_1=\"drop table line_user_id\"\n",
    "#\"CREATE Table project.line_user_id ( \\\n",
    "#\tid INTEGER PRIMARY KEY AUTO_INCREMENT, \\\n",
    "#\t`user_id` VARCHAR(50), \\\n",
    "#        createDate DATETIME \\\n",
    "#);\"\n",
    "\n",
    "#\"drop table project.Login_t\"\n",
    "\n",
    "try:\n",
    "    cursor.execute(sql_1) # 执行sql语句\n",
    "    db.commit() # 提交到数据库执行\n",
    "    print('success')\n",
    "except:\n",
    "    db.rollback() # 如果发生错误则回滚\n",
    "    print('error')"
   ]
  },
  {
   "cell_type": "code",
   "execution_count": null,
   "metadata": {},
   "outputs": [],
   "source": [
    "a=[C1,C2,C3,C4,C5,C6,C7,C8,C9,C10,C11]=[C1,C2,C3,C4,C5,C6,C7,C8,C9,C10,C11]"
   ]
  }
 ],
 "metadata": {
  "kernelspec": {
   "display_name": "Python 3",
   "language": "python",
   "name": "python3"
  },
  "language_info": {
   "codemirror_mode": {
    "name": "ipython",
    "version": 3
   },
   "file_extension": ".py",
   "mimetype": "text/x-python",
   "name": "python",
   "nbconvert_exporter": "python",
   "pygments_lexer": "ipython3",
   "version": "3.7.6"
  }
 },
 "nbformat": 4,
 "nbformat_minor": 4
}
